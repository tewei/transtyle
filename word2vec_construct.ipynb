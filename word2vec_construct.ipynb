{
 "cells": [
  {
   "cell_type": "code",
   "execution_count": 28,
   "metadata": {
    "collapsed": false
   },
   "outputs": [],
   "source": [
    "from gensim.models import word2vec\n",
    "sentences = word2vec.LineSentence(\"data/yelp/both.txt\")\n",
    "model = word2vec.Word2Vec(sentences, size=128)\n",
    "model.save(\"sentiment_train_0.model\")\n",
    "\n"
   ]
  },
  {
   "cell_type": "code",
   "execution_count": 25,
   "metadata": {
    "collapsed": false
   },
   "outputs": [],
   "source": [
    "from gensim.models import word2vec\n",
    "sentences = word2vec.LineSentence(\"data/yelp/sentiment.train.1\")\n",
    "model = word2vec.Word2Vec(sentences, size=128)\n",
    "model.save(\"sentiment_train_1.model\")"
   ]
  },
  {
   "cell_type": "code",
   "execution_count": 26,
   "metadata": {
    "collapsed": false
   },
   "outputs": [
    {
     "name": "stdout",
     "output_type": "stream",
     "text": [
      "Loading models\n"
     ]
    }
   ],
   "source": [
    "from gensim import models\n",
    "print('Loading models')\n",
    "model = models.Word2Vec.load('sentiment_train_0.model')\n"
   ]
  },
  {
   "cell_type": "code",
   "execution_count": 14,
   "metadata": {
    "collapsed": false
   },
   "outputs": [
    {
     "name": "stdout",
     "output_type": "stream",
     "text": [
      "相似詞前 100 排序\n",
      "slowest,0.754598379135\n",
      "rudest,0.644162237644\n",
      "most,0.598771572113\n",
      "worse,0.562426507473\n",
      "terrible,0.531504392624\n",
      "horrible,0.514756202698\n",
      "encountered,0.497951358557\n",
      "best,0.497248739004\n",
      "horrendous,0.452678799629\n",
      "eaten,0.447735488415\n",
      "awful,0.446956515312\n",
      "dreadful,0.446455299854\n",
      "atrocious,0.434250354767\n",
      "experienced,0.429671227932\n",
      "horrid,0.425677388906\n",
      "sucked,0.425149470568\n",
      "easiest,0.423866271973\n",
      "horrific,0.418658852577\n",
      "busiest,0.418032109737\n",
      "opposite,0.417789310217\n",
      "cheapest,0.41754168272\n",
      "visited,0.414306849241\n",
      "ever,0.408201992512\n",
      "favorite,0.403355360031\n",
      "typical,0.400967806578\n",
      "nonexistent,0.398680001497\n",
      "chosen,0.397812306881\n",
      "closest,0.397696554661\n",
      "seen,0.396996676922\n",
      "lousy,0.395763069391\n",
      "industry,0.395373940468\n",
      "biggest,0.393143713474\n",
      "entire,0.391806602478\n",
      "flown,0.390794038773\n",
      "sub-par,0.390284448862\n",
      "miserable,0.389993876219\n",
      "garbage,0.383608043194\n",
      "disgusting,0.383575320244\n",
      "spa,0.380674540997\n",
      "lacking,0.378416597843\n",
      "pathetic,0.376133680344\n",
      "better,0.374476015568\n",
      "crave,0.367224216461\n",
      "hated,0.364175796509\n",
      "appalling,0.36313611269\n",
      "sucks,0.36117374897\n",
      "gone,0.359489381313\n",
      "ridiculous,0.357710421085\n",
      "lived,0.355687856674\n",
      "abysmal,0.355414301157\n"
     ]
    }
   ],
   "source": [
    "print(\"相似詞前 100 排序\")\n",
    "res = model.most_similar('worst',topn = 50)\n",
    "for item in res:\n",
    "    print(item[0]+\",\"+str(item[1]))"
   ]
  },
  {
   "cell_type": "code",
   "execution_count": 5,
   "metadata": {
    "collapsed": false
   },
   "outputs": [
    {
     "name": "stdout",
     "output_type": "stream",
     "text": [
      "計算 Cosine 相似度：\n",
      "0.4217597003710921\n"
     ]
    }
   ],
   "source": [
    "print(\"計算 Cosine 相似度：\")\n",
    "res = model.similarity(u'溫拿',u'肥宅')\n",
    "print(res)"
   ]
  },
  {
   "cell_type": "code",
   "execution_count": 20,
   "metadata": {
    "collapsed": false
   },
   "outputs": [
    {
     "name": "stdout",
     "output_type": "stream",
     "text": [
      "肥宅\n",
      "台北之於中正，如台中之於\n",
      "北大,0.563808321953\n",
      "中山,0.538508057594\n",
      "松山,0.534327805042\n",
      "北京,0.525255560875\n",
      "南京,0.507534146309\n",
      "初中,0.504416048527\n",
      "紀念堂,0.502628445625\n",
      "靜宜,0.50255382061\n",
      "汐止,0.501094102859\n",
      "老家,0.495902359486\n",
      "師大,0.494611144066\n",
      "外地,0.491933047771\n",
      "上海,0.485353678465\n",
      "大學,0.484537690878\n",
      "台大,0.482834726572\n",
      "正門口,0.479175001383\n",
      "淡水,0.476890385151\n",
      "三重,0.476880699396\n",
      "南港,0.476733386517\n",
      "前台,0.474756538868\n"
     ]
    }
   ],
   "source": [
    "x,y,z = u'台北',u'中正',u'台中'\n",
    "a = u'肥宅'\n",
    "print(a)\n",
    "print(\"{}之於{}，如{}之於\".format(x.encode('utf8'),y.encode('utf8'),z.encode('utf8')))\n",
    "res = model.most_similar([x,y], [z], topn= 20)\n",
    "for item in res:\n",
    "    print(item[0]+\",\"+str(item[1]))"
   ]
  },
  {
   "cell_type": "code",
   "execution_count": null,
   "metadata": {
    "collapsed": true
   },
   "outputs": [],
   "source": []
  },
  {
   "cell_type": "code",
   "execution_count": null,
   "metadata": {
    "collapsed": true
   },
   "outputs": [],
   "source": []
  },
  {
   "cell_type": "code",
   "execution_count": null,
   "metadata": {
    "collapsed": true
   },
   "outputs": [],
   "source": []
  }
 ],
 "metadata": {
  "kernelspec": {
   "display_name": "Python 2",
   "language": "python",
   "name": "python2"
  },
  "language_info": {
   "codemirror_mode": {
    "name": "ipython",
    "version": 2
   },
   "file_extension": ".py",
   "mimetype": "text/x-python",
   "name": "python",
   "nbconvert_exporter": "python",
   "pygments_lexer": "ipython2",
   "version": "2.7.9"
  }
 },
 "nbformat": 4,
 "nbformat_minor": 2
}
