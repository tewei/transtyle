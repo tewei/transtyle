{
 "cells": [
  {
   "cell_type": "code",
   "execution_count": 1,
   "metadata": {
    "collapsed": false
   },
   "outputs": [],
   "source": [
    "#Load Documents\n",
    "import csv\n",
    "import string\n",
    "import sys\n",
    "\n",
    "csv.field_size_limit(sys.maxsize)\n",
    "\n",
    "train_raw_neg = []\n",
    "train_raw_pos = []\n",
    "\n",
    "with open('data/yelp/sentiment.train.0', 'rb') as fp:\n",
    "    train_raw_neg = fp.readlines()\n",
    "    \n",
    "with open('data/yelp/sentiment.train.1', 'rb') as fp:\n",
    "    train_raw_pos = fp.readlines()\n",
    "\n"
   ]
  },
  {
   "cell_type": "code",
   "execution_count": 2,
   "metadata": {
    "collapsed": false
   },
   "outputs": [
    {
     "name": "stdout",
     "output_type": "stream",
     "text": [
      "177218\n",
      "266041\n"
     ]
    }
   ],
   "source": [
    "neg_sent_cnt = len(train_raw_neg)\n",
    "pos_sent_cnt = len(train_raw_pos)\n",
    "print neg_sent_cnt\n",
    "print pos_sent_cnt"
   ]
  },
  {
   "cell_type": "code",
   "execution_count": 3,
   "metadata": {
    "collapsed": true
   },
   "outputs": [],
   "source": [
    "import nltk\n",
    "from nltk.corpus import stopwords\n",
    "from nltk.tokenize import RegexpTokenizer\n",
    "import re\n",
    "\n",
    "\n",
    "stop_word_list = list(stopwords.words('english'))\n",
    "\n",
    "def tokenize_std(content, n_gram):\n",
    "    content = content.lower()\n",
    "    content = content.replace(\"\\\\n\", \" \")\n",
    "    words = content.split()\n",
    "    tokens = []\n",
    "    for i in range(n_gram):\n",
    "        for j in range(len(words)-i):\n",
    "            tokens.append(\"_\".join(words[j:j+i+1]))\n",
    "    \n",
    "    tokens = [w for w in tokens if not w in stop_word_list]\n",
    "    return tokens\n"
   ]
  },
  {
   "cell_type": "code",
   "execution_count": 5,
   "metadata": {
    "collapsed": false
   },
   "outputs": [],
   "source": [
    "train_token_neg = []\n",
    "train_token_pos = []\n",
    "\n",
    "for s in train_raw_neg:\n",
    "    train_token_neg.append(tokenize_std(s, 2))\n",
    "\n",
    "for s in train_raw_pos:\n",
    "    train_token_pos.append(tokenize_std(s, 2))\n",
    "    "
   ]
  },
  {
   "cell_type": "code",
   "execution_count": 6,
   "metadata": {
    "collapsed": false
   },
   "outputs": [
    {
     "name": "stdout",
     "output_type": "stream",
     "text": [
      "[['sadly', 'mistaken', '.', 'i_was', 'was_sadly', 'sadly_mistaken', 'mistaken_.'], ['hoagies', ',', 'italian', 'general', 'run', 'mill', '.', 'so_on', 'on_to', 'to_the', 'the_hoagies', 'hoagies_,', ',_the', 'the_italian', 'italian_is', 'is_general', 'general_run', 'run_of', 'of_the', 'the_mill', 'mill_.'], ['minimal', 'meat', 'ton', 'shredded', 'lettuce', '.', 'minimal_meat', 'meat_and', 'and_a', 'a_ton', 'ton_of', 'of_shredded', 'shredded_lettuce', 'lettuce_.'], ['nothing', 'really', 'special', '&', 'worthy', '$', '_num_', 'price', 'tag', '.', 'nothing_really', 'really_special', 'special_&', '&_not', 'not_worthy', 'worthy_of', 'of_the', 'the_$', '$__num_', '_num__price', 'price_tag', 'tag_.'], ['second', ',', 'steak', 'hoagie', ',', 'atrocious', '.', 'second_,', ',_the', 'the_steak', 'steak_hoagie', 'hoagie_,', ',_it', 'it_is', 'is_atrocious', 'atrocious_.']]\n",
      "[['excellent', 'food', '.', 'excellent_food', 'food_.'], ['superb', 'customer', 'service', '.', 'superb_customer', 'customer_service', 'service_.'], ['also', 'daily', 'specials', 'ice', 'cream', 'really', 'good', '.', 'they_also', 'also_have', 'have_daily', 'daily_specials', 'specials_and', 'and_ice', 'ice_cream', 'cream_which', 'which_is', 'is_really', 'really_good', 'good_.'], [\"'s\", 'good', 'toasted', 'hoagie', '.', \"it_'s\", \"'s_a\", 'a_good', 'good_toasted', 'toasted_hoagie', 'hoagie_.'], ['staff', 'friendly', '.', 'the_staff', 'staff_is', 'is_friendly', 'friendly_.']]\n"
     ]
    }
   ],
   "source": [
    "print train_token_neg[0:5]\n",
    "print train_token_pos[0:5]"
   ]
  },
  {
   "cell_type": "code",
   "execution_count": 7,
   "metadata": {
    "collapsed": false
   },
   "outputs": [],
   "source": [
    "from nltk import ngrams\n",
    "from collections import Counter\n",
    "\n",
    "unigram_neg = Counter([])\n",
    "unigram_pos = Counter([])\n",
    "unigram_all = Counter([])\n",
    "\n",
    "bigram_neg = Counter([])\n",
    "bigram_pos = Counter([])\n",
    "bigram_all = Counter([])\n",
    "\n",
    "\n",
    "for s in train_token_neg:\n",
    "    for w in s:\n",
    "        bigram_neg[w] += 1\n",
    "        bigram_all[w] += 1\n",
    "    \n",
    "for s in train_token_pos:\n",
    "    for w in s:\n",
    "        bigram_pos[w] += 1\n",
    "        bigram_all[w] += 1\n"
   ]
  },
  {
   "cell_type": "code",
   "execution_count": 8,
   "metadata": {
    "collapsed": false
   },
   "outputs": [
    {
     "name": "stdout",
     "output_type": "stream",
     "text": [
      "8783\n"
     ]
    }
   ],
   "source": [
    "vocab_list = [w for w in bigram_all if (bigram_all[w] > 72)]\n",
    "vocab_dict = {}\n",
    "idx = 0\n",
    "for w in vocab_list:\n",
    "    vocab_dict[w] = idx\n",
    "    idx += 1\n",
    "\n",
    "with open('vocab_list.csv', 'wb') as csvfile:\n",
    "    model_writer = csv.writer(csvfile)\n",
    "    model_writer.writerow(vocab_list)    \n",
    "\n",
    "print len(vocab_list)"
   ]
  },
  {
   "cell_type": "code",
   "execution_count": null,
   "metadata": {
    "collapsed": true
   },
   "outputs": [],
   "source": [
    "import numpy as np\n",
    "\n",
    "\n",
    "alpha = 1.0\n",
    "d = len(vocab_list)\n",
    "p, q = p, q = np.ones(d) * alpha , np.ones(d) * alpha\n",
    "\n",
    "for w in vocab_list:\n",
    "    p[vocab_dict[w]] += bigram_pos[w]\n",
    "    q[vocab_dict[w]] += bigram_neg[w]\n",
    "\n",
    "p /= abs(p).sum()\n",
    "q /= abs(q).sum()\n",
    "r = np.log(p/q)\n",
    "    "
   ]
  },
  {
   "cell_type": "code",
   "execution_count": null,
   "metadata": {
    "collapsed": false
   },
   "outputs": [],
   "source": [
    "X_all = []\n",
    "Y_all = []\n",
    "for s in train_token_neg:\n",
    "    vec = np.zeros(d)\n",
    "    for w in s:\n",
    "        if w in vocab_dict:\n",
    "            vec[vocab_dict[w]] = r[vocab_dict[w]]\n",
    "\n",
    "    X_all.append(vec)\n",
    "    Y_all.append(-1)\n",
    "\n",
    "for s in train_token_pos:\n",
    "    vec = np.zeros(d)\n",
    "    for w in s:\n",
    "        if w in vocab_dict:\n",
    "            vec[vocab_dict[w]] = r[vocab_dict[w]]\n",
    "\n",
    "    X_all.append(vec)\n",
    "    Y_all.append(1)\n"
   ]
  },
  {
   "cell_type": "code",
   "execution_count": 1,
   "metadata": {
    "collapsed": false
   },
   "outputs": [
    {
     "ename": "NameError",
     "evalue": "name 'X_all' is not defined",
     "output_type": "error",
     "traceback": [
      "\u001b[0;31m---------------------------------------------------------------------------\u001b[0m",
      "\u001b[0;31mNameError\u001b[0m                                 Traceback (most recent call last)",
      "\u001b[0;32m<ipython-input-1-fae37fdfb3e4>\u001b[0m in \u001b[0;36m<module>\u001b[0;34m()\u001b[0m\n\u001b[1;32m      5\u001b[0m \u001b[0;34m\u001b[0m\u001b[0m\n\u001b[1;32m      6\u001b[0m \u001b[0;34m\u001b[0m\u001b[0m\n\u001b[0;32m----> 7\u001b[0;31m \u001b[0mX_train\u001b[0m\u001b[0;34m,\u001b[0m \u001b[0mX_test\u001b[0m\u001b[0;34m,\u001b[0m \u001b[0mY_train\u001b[0m\u001b[0;34m,\u001b[0m \u001b[0mY_test\u001b[0m \u001b[0;34m=\u001b[0m \u001b[0mtrain_test_split\u001b[0m\u001b[0;34m(\u001b[0m\u001b[0mX_all\u001b[0m\u001b[0;34m[\u001b[0m\u001b[0;36m0\u001b[0m\u001b[0;34m:\u001b[0m\u001b[0;36m100000\u001b[0m\u001b[0;34m]\u001b[0m\u001b[0;34m+\u001b[0m\u001b[0mX_all\u001b[0m\u001b[0;34m[\u001b[0m\u001b[0;36m300000\u001b[0m\u001b[0;34m:\u001b[0m\u001b[0;36m400000\u001b[0m\u001b[0;34m]\u001b[0m\u001b[0;34m,\u001b[0m \u001b[0mY_all\u001b[0m\u001b[0;34m[\u001b[0m\u001b[0;36m0\u001b[0m\u001b[0;34m:\u001b[0m\u001b[0;36m100000\u001b[0m\u001b[0;34m]\u001b[0m\u001b[0;34m+\u001b[0m\u001b[0mY_all\u001b[0m\u001b[0;34m[\u001b[0m\u001b[0;36m300000\u001b[0m\u001b[0;34m:\u001b[0m\u001b[0;36m400000\u001b[0m\u001b[0;34m]\u001b[0m\u001b[0;34m,\u001b[0m \u001b[0mtest_size\u001b[0m \u001b[0;34m=\u001b[0m \u001b[0;36m0.2\u001b[0m\u001b[0;34m)\u001b[0m\u001b[0;34m\u001b[0m\u001b[0m\n\u001b[0m",
      "\u001b[0;31mNameError\u001b[0m: name 'X_all' is not defined"
     ]
    }
   ],
   "source": [
    "\n",
    "from sklearn.model_selection import train_test_split\n",
    "from sklearn.model_selection import cross_val_score\n",
    "from sklearn.model_selection import ShuffleSplit\n",
    "\n",
    "\n",
    "X_train, X_test, Y_train, Y_test = train_test_split(X_all[0:100000]+X_all[300000:400000], Y_all[0:100000]+Y_all[300000:400000], test_size = 0.2)\n"
   ]
  },
  {
   "cell_type": "code",
   "execution_count": 21,
   "metadata": {
    "collapsed": false
   },
   "outputs": [
    {
     "data": {
      "text/plain": [
       "LinearSVC(C=0.1, class_weight=None, dual=True, fit_intercept=True,\n",
       "     intercept_scaling=1, loss='squared_hinge', max_iter=1000,\n",
       "     multi_class='ovr', penalty='l2', random_state=None, tol=0.0001,\n",
       "     verbose=0)"
      ]
     },
     "execution_count": 21,
     "metadata": {},
     "output_type": "execute_result"
    }
   ],
   "source": [
    "from sklearn.svm import LinearSVC\n",
    "#linear NBSVM model\n",
    "clf_svc = LinearSVC(penalty='l2', C=0.1)\n",
    "clf_svc.fit(X_train, Y_train)"
   ]
  },
  {
   "cell_type": "code",
   "execution_count": 22,
   "metadata": {
    "collapsed": false
   },
   "outputs": [
    {
     "name": "stdout",
     "output_type": "stream",
     "text": [
      "Acurracy: 0.959156\n"
     ]
    }
   ],
   "source": [
    "import pickle\n",
    "with open('classifier/clf_svc.pickle', 'wb') as f:\n",
    "    pickle.dump(clf_svc, f)\n",
    "    \n",
    "with open('classifier/clf_svc.pickle', 'rb') as f:\n",
    "    clf_svc_o = pickle.load(f)\n",
    "\n",
    "print \"Acurracy: %f\" %clf_svc_o.score(X_test, Y_test)"
   ]
  },
  {
   "cell_type": "code",
   "execution_count": 23,
   "metadata": {
    "collapsed": false
   },
   "outputs": [
    {
     "data": {
      "text/plain": [
       "LogisticRegression(C=1.0, class_weight=None, dual=False, fit_intercept=True,\n",
       "          intercept_scaling=1, max_iter=100, multi_class='ovr', n_jobs=1,\n",
       "          penalty='l2', random_state=None, solver='liblinear', tol=0.001,\n",
       "          verbose=0, warm_start=False)"
      ]
     },
     "execution_count": 23,
     "metadata": {},
     "output_type": "execute_result"
    }
   ],
   "source": [
    "from sklearn.linear_model import LogisticRegression\n",
    "#NB LR model\n",
    "clf_lr = LogisticRegression(C=1.0, penalty='l2', tol=0.001)\n",
    "clf_lr.fit(X_train, Y_train)"
   ]
  },
  {
   "cell_type": "code",
   "execution_count": 24,
   "metadata": {
    "collapsed": false
   },
   "outputs": [
    {
     "name": "stdout",
     "output_type": "stream",
     "text": [
      "Acurracy: 0.959375\n"
     ]
    }
   ],
   "source": [
    "with open('classifier/clf_lr.pickle', 'wb') as f:\n",
    "    pickle.dump(clf_lr, f)\n",
    "    \n",
    "with open('classifier/clf_lr.pickle', 'rb') as f:\n",
    "    clf_lr_o = pickle.load(f)\n",
    "\n",
    "print \"Acurracy: %f\" % clf_lr_o.score(X_test, Y_test)"
   ]
  },
  {
   "cell_type": "code",
   "execution_count": 17,
   "metadata": {
    "collapsed": false
   },
   "outputs": [
    {
     "name": "stdout",
     "output_type": "stream",
     "text": [
      "[ 0.6766152   1.00147899  0.81081579 ... -0.76472057  0.91358675\n",
      " -2.81290957]\n"
     ]
    }
   ],
   "source": [
    "print r"
   ]
  },
  {
   "cell_type": "code",
   "execution_count": 44,
   "metadata": {
    "collapsed": false
   },
   "outputs": [
    {
     "name": "stdout",
     "output_type": "stream",
     "text": [
      "Accuracy: 0.937251\n"
     ]
    }
   ],
   "source": [
    "#MNB model\n",
    "cnt_true = 0.0\n",
    "cnt_all = len(X_all)\n",
    "for i in range(len(X_all)):\n",
    "    log_prob = np.sum(X_all[i])\n",
    "    if((log_prob > 0 and Y_all[i] == 1) or (log_prob < 0 and Y_all[i] == -1)):\n",
    "        cnt_true += 1\n",
    "        \n",
    "print \"Accuracy: %f\" % (cnt_true/cnt_all)\n",
    "        \n",
    "        \n",
    "def eval_sent_MNB(s):\n",
    "    vec = np.zeros(d)\n",
    "    for w in s:\n",
    "        if w in vocab_dict:\n",
    "            vec[vocab_dict[w]] = r[vocab_dict[w]]\n",
    "            \n",
    "    return [np.sum(vec)]\n",
    "\n",
    "\n",
    "    "
   ]
  },
  {
   "cell_type": "code",
   "execution_count": 25,
   "metadata": {
    "collapsed": true
   },
   "outputs": [],
   "source": [
    "def eval_sent_svm(clf, s):\n",
    "    \n",
    "    vec = np.zeros(d)\n",
    "    for w in s:\n",
    "        if w in vocab_dict:\n",
    "            vec[vocab_dict[w]] = r[vocab_dict[w]]\n",
    "        \n",
    "    #print clf.predict([vec])\n",
    "    return clf.decision_function([vec])\n",
    "\n",
    "def eval_sent_lr(clf, s):\n",
    "    \n",
    "    vec = np.zeros(d)\n",
    "    for w in s:\n",
    "        if w in vocab_dict:\n",
    "            vec[vocab_dict[w]] = r[vocab_dict[w]]\n",
    "            \n",
    "    return clf.predict_proba([vec])"
   ]
  },
  {
   "cell_type": "code",
   "execution_count": 98,
   "metadata": {
    "collapsed": false
   },
   "outputs": [
    {
     "name": "stdout",
     "output_type": "stream",
     "text": [
      "$: dollar\n",
      "    $ -$ --$ A$ C$ HK$ M$ NZ$ S$ U.S.$ US$\n",
      "'': closing quotation mark\n",
      "    ' ''\n",
      "(: opening parenthesis\n",
      "    ( [ {\n",
      "): closing parenthesis\n",
      "    ) ] }\n",
      ",: comma\n",
      "    ,\n",
      "--: dash\n",
      "    --\n",
      ".: sentence terminator\n",
      "    . ! ?\n",
      ":: colon or ellipsis\n",
      "    : ; ...\n",
      "CC: conjunction, coordinating\n",
      "    & 'n and both but either et for less minus neither nor or plus so\n",
      "    therefore times v. versus vs. whether yet\n",
      "CD: numeral, cardinal\n",
      "    mid-1890 nine-thirty forty-two one-tenth ten million 0.5 one forty-\n",
      "    seven 1987 twenty '79 zero two 78-degrees eighty-four IX '60s .025\n",
      "    fifteen 271,124 dozen quintillion DM2,000 ...\n",
      "DT: determiner\n",
      "    all an another any both del each either every half la many much nary\n",
      "    neither no some such that the them these this those\n",
      "EX: existential there\n",
      "    there\n",
      "FW: foreign word\n",
      "    gemeinschaft hund ich jeux habeas Haementeria Herr K'ang-si vous\n",
      "    lutihaw alai je jour objets salutaris fille quibusdam pas trop Monte\n",
      "    terram fiche oui corporis ...\n",
      "IN: preposition or conjunction, subordinating\n",
      "    astride among uppon whether out inside pro despite on by throughout\n",
      "    below within for towards near behind atop around if like until below\n",
      "    next into if beside ...\n",
      "JJ: adjective or numeral, ordinal\n",
      "    third ill-mannered pre-war regrettable oiled calamitous first separable\n",
      "    ectoplasmic battery-powered participatory fourth still-to-be-named\n",
      "    multilingual multi-disciplinary ...\n",
      "JJR: adjective, comparative\n",
      "    bleaker braver breezier briefer brighter brisker broader bumper busier\n",
      "    calmer cheaper choosier cleaner clearer closer colder commoner costlier\n",
      "    cozier creamier crunchier cuter ...\n",
      "JJS: adjective, superlative\n",
      "    calmest cheapest choicest classiest cleanest clearest closest commonest\n",
      "    corniest costliest crassest creepiest crudest cutest darkest deadliest\n",
      "    dearest deepest densest dinkiest ...\n",
      "LS: list item marker\n",
      "    A A. B B. C C. D E F First G H I J K One SP-44001 SP-44002 SP-44005\n",
      "    SP-44007 Second Third Three Two * a b c d first five four one six three\n",
      "    two\n",
      "MD: modal auxiliary\n",
      "    can cannot could couldn't dare may might must need ought shall should\n",
      "    shouldn't will would\n",
      "NN: noun, common, singular or mass\n",
      "    common-carrier cabbage knuckle-duster Casino afghan shed thermostat\n",
      "    investment slide humour falloff slick wind hyena override subhumanity\n",
      "    machinist ...\n",
      "NNP: noun, proper, singular\n",
      "    Motown Venneboerger Czestochwa Ranzer Conchita Trumplane Christos\n",
      "    Oceanside Escobar Kreisler Sawyer Cougar Yvette Ervin ODI Darryl CTCA\n",
      "    Shannon A.K.C. Meltex Liverpool ...\n",
      "NNPS: noun, proper, plural\n",
      "    Americans Americas Amharas Amityvilles Amusements Anarcho-Syndicalists\n",
      "    Andalusians Andes Andruses Angels Animals Anthony Antilles Antiques\n",
      "    Apache Apaches Apocrypha ...\n",
      "NNS: noun, common, plural\n",
      "    undergraduates scotches bric-a-brac products bodyguards facets coasts\n",
      "    divestitures storehouses designs clubs fragrances averages\n",
      "    subjectivists apprehensions muses factory-jobs ...\n",
      "PDT: pre-determiner\n",
      "    all both half many quite such sure this\n",
      "POS: genitive marker\n",
      "    ' 's\n",
      "PRP: pronoun, personal\n",
      "    hers herself him himself hisself it itself me myself one oneself ours\n",
      "    ourselves ownself self she thee theirs them themselves they thou thy us\n",
      "PRP$: pronoun, possessive\n",
      "    her his mine my our ours their thy your\n",
      "RB: adverb\n",
      "    occasionally unabatingly maddeningly adventurously professedly\n",
      "    stirringly prominently technologically magisterially predominately\n",
      "    swiftly fiscally pitilessly ...\n",
      "RBR: adverb, comparative\n",
      "    further gloomier grander graver greater grimmer harder harsher\n",
      "    healthier heavier higher however larger later leaner lengthier less-\n",
      "    perfectly lesser lonelier longer louder lower more ...\n",
      "RBS: adverb, superlative\n",
      "    best biggest bluntest earliest farthest first furthest hardest\n",
      "    heartiest highest largest least less most nearest second tightest worst\n",
      "RP: particle\n",
      "    aboard about across along apart around aside at away back before behind\n",
      "    by crop down ever fast for forth from go high i.e. in into just later\n",
      "    low more off on open out over per pie raising start teeth that through\n",
      "    under unto up up-pp upon whole with you\n",
      "SYM: symbol\n",
      "    % & ' '' ''. ) ). * + ,. < = > @ A[fj] U.S U.S.S.R * ** ***\n",
      "TO: \"to\" as preposition or infinitive marker\n",
      "    to\n",
      "UH: interjection\n",
      "    Goodbye Goody Gosh Wow Jeepers Jee-sus Hubba Hey Kee-reist Oops amen\n",
      "    huh howdy uh dammit whammo shucks heck anyways whodunnit honey golly\n",
      "    man baby diddle hush sonuvabitch ...\n",
      "VB: verb, base form\n",
      "    ask assemble assess assign assume atone attention avoid bake balkanize\n",
      "    bank begin behold believe bend benefit bevel beware bless boil bomb\n",
      "    boost brace break bring broil brush build ...\n",
      "VBD: verb, past tense\n",
      "    dipped pleaded swiped regummed soaked tidied convened halted registered\n",
      "    cushioned exacted snubbed strode aimed adopted belied figgered\n",
      "    speculated wore appreciated contemplated ...\n",
      "VBG: verb, present participle or gerund\n",
      "    telegraphing stirring focusing angering judging stalling lactating\n",
      "    hankerin' alleging veering capping approaching traveling besieging\n",
      "    encrypting interrupting erasing wincing ...\n",
      "VBN: verb, past participle\n",
      "    multihulled dilapidated aerosolized chaired languished panelized used\n",
      "    experimented flourished imitated reunifed factored condensed sheared\n",
      "    unsettled primed dubbed desired ...\n",
      "VBP: verb, present tense, not 3rd person singular\n",
      "    predominate wrap resort sue twist spill cure lengthen brush terminate\n",
      "    appear tend stray glisten obtain comprise detest tease attract\n",
      "    emphasize mold postpone sever return wag ...\n",
      "VBZ: verb, present tense, 3rd person singular\n",
      "    bases reconstructs marks mixes displeases seals carps weaves snatches\n",
      "    slumps stretches authorizes smolders pictures emerges stockpiles\n",
      "    seduces fizzes uses bolsters slaps speaks pleads ...\n",
      "WDT: WH-determiner\n",
      "    that what whatever which whichever\n",
      "WP: WH-pronoun\n",
      "    that what whatever whatsoever which who whom whosoever\n",
      "WP$: WH-pronoun, possessive\n",
      "    whose\n",
      "WRB: Wh-adverb\n",
      "    how however whence whenever where whereby whereever wherein whereof why\n",
      "``: opening quotation mark\n",
      "    ` ``\n"
     ]
    }
   ],
   "source": [
    "nltk.help.upenn_tagset()"
   ]
  }
 ],
 "metadata": {
  "kernelspec": {
   "display_name": "Python 2",
   "language": "python",
   "name": "python2"
  },
  "language_info": {
   "codemirror_mode": {
    "name": "ipython",
    "version": 2
   },
   "file_extension": ".py",
   "mimetype": "text/x-python",
   "name": "python",
   "nbconvert_exporter": "python",
   "pygments_lexer": "ipython2",
   "version": "2.7.9"
  }
 },
 "nbformat": 4,
 "nbformat_minor": 0
}
